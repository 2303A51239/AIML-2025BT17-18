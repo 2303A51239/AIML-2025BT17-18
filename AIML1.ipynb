{
  "nbformat": 4,
  "nbformat_minor": 0,
  "metadata": {
    "colab": {
      "provenance": [],
      "authorship_tag": "ABX9TyMbrhbp2l4NgZszrRi95sFY",
      "include_colab_link": true
    },
    "kernelspec": {
      "name": "python3",
      "display_name": "Python 3"
    },
    "language_info": {
      "name": "python"
    }
  },
  "cells": [
    {
      "cell_type": "markdown",
      "metadata": {
        "id": "view-in-github",
        "colab_type": "text"
      },
      "source": [
        "<a href=\"https://colab.research.google.com/github/2303A51239/AIML-2025BT17-18/blob/main/AIML1.ipynb\" target=\"_parent\"><img src=\"https://colab.research.google.com/assets/colab-badge.svg\" alt=\"Open In Colab\"/></a>"
      ]
    },
    {
      "cell_type": "code",
      "execution_count": 2,
      "metadata": {
        "colab": {
          "base_uri": "https://localhost:8080/"
        },
        "id": "6Hkrwz6OjeWp",
        "outputId": "dd0ca711-0b8e-461f-d9cc-0736e73d3f77"
      },
      "outputs": [
        {
          "output_type": "stream",
          "name": "stdout",
          "text": [
            "List 1: [1, 2, 3, 4]\n",
            "List 2: [5, 6, 7, 8]\n",
            "Type of list1: <class 'list'>\n",
            "\n",
            "Array 1: [1 2 3 4]\n",
            "Array 2: [5 6 7 8]\n",
            "Type of array1: <class 'numpy.ndarray'>\n",
            "\n",
            "Multiplication (array1 * array2): [ 5 12 21 32]\n",
            "Division (array1 / array2): [0.2        0.33333333 0.42857143 0.5       ]\n",
            "Power of (array1 ** 2): [ 1  4  9 16]\n",
            "\n",
            "Addition of Two: array1 + array2 = [ 6  8 10 12]\n",
            "\n",
            "Sine of array1 (np.sin()): [ 0.84147098  0.90929743  0.14112001 -0.7568025 ]\n",
            "Natural log of array2 (np.log()): [1.60943791 1.79175947 1.94591015 2.07944154]\n",
            "Log base 2 of array1 (np.log2()): [0.        1.        1.5849625 2.       ]\n",
            "Exponential of array2 (np.exp()): [ 148.4131591   403.42879349 1096.63315843 2980.95798704]\n"
          ]
        }
      ],
      "source": [
        "import numpy as np\n",
        "\n",
        "\n",
        "list1 = [1, 2, 3, 4]\n",
        "list2 = [5, 6, 7, 8]\n",
        "print(\"List 1:\", list1)\n",
        "print(\"List 2:\", list2)\n",
        "print(\"Type of list1:\", type(list1))\n",
        "\n",
        "\n",
        "array1 = np.array([1, 2, 3, 4])\n",
        "array2 = np.array([5, 6, 7, 8])\n",
        "print(\"\\nArray 1:\", array1)\n",
        "print(\"Array 2:\", array2)\n",
        "print(\"Type of array1:\", type(array1))\n",
        "\n",
        "print(\"\\nMultiplication (array1 * array2):\", array1 * array2)\n",
        "print(\"Division (array1 / array2):\", array1 / array2)\n",
        "print(\"Power of (array1 ** 2):\", array1 ** 2)\n",
        "\n",
        "\n",
        "result = array1 + array2\n",
        "print(\"\\nAddition of Two: array1 + array2 =\", result)\n",
        "\n",
        "\n",
        "print(\"\\nSine of array1 (np.sin()):\", np.sin(array1))\n",
        "print(\"Natural log of array2 (np.log()):\", np.log(array2))\n",
        "print(\"Log base 2 of array1 (np.log2()):\", np.log2(array1))\n",
        "print(\"Exponential of array2 (np.exp()):\", np.exp(array2))\n"
      ]
    },
    {
      "cell_type": "code",
      "source": [],
      "metadata": {
        "id": "kn2at8EckbJ1"
      },
      "execution_count": null,
      "outputs": []
    }
  ]
}